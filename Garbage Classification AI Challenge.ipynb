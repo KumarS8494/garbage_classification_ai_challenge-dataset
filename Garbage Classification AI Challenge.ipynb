{
 "cells": [
  {
   "cell_type": "code",
   "execution_count": 1,
   "id": "8316fe9f",
   "metadata": {},
   "outputs": [],
   "source": [
    "train_path = 'garbage_classification_ai_challenge-dataset/TRAIN'"
   ]
  },
  {
   "cell_type": "code",
   "execution_count": 2,
   "id": "1dc4cbf2",
   "metadata": {},
   "outputs": [],
   "source": [
    "test_path = 'garbage_classification_ai_challenge-dataset/TEST'"
   ]
  },
  {
   "cell_type": "code",
   "execution_count": 3,
   "id": "44a069c9",
   "metadata": {},
   "outputs": [],
   "source": [
    "import tensorflow as tf\n",
    "import tensorflow.keras as keras\n",
    "from tensorflow.keras.callbacks import ModelCheckpoint\n",
    "from tensorflow.keras.layers import Conv2D, Flatten, MaxPooling2D,Dense,Dropout\n",
    "from tensorflow.keras.models  import Sequential\n",
    "from tensorflow.keras.preprocessing.image import ImageDataGenerator"
   ]
  },
  {
   "cell_type": "code",
   "execution_count": 24,
   "id": "82545a69",
   "metadata": {},
   "outputs": [
    {
     "name": "stdout",
     "output_type": "stream",
     "text": [
      "Found 1804 images belonging to 6 classes.\n",
      "Found 197 images belonging to 6 classes.\n"
     ]
    }
   ],
   "source": [
    "#paths to the train, validation and test image datasets \n",
    "train_path = 'garbage_classification_ai_challenge-dataset/TRAIN'\n",
    "valid_path = 'garbage_classification_ai_challenge-dataset/TRAIN'\n",
    "\n",
    "\n",
    "# extract images to training set by applying data preprocessing and data augmentation\n",
    "train_batches = ImageDataGenerator(\n",
    "    preprocessing_function=keras.applications.vgg16.preprocess_input,\n",
    "    shear_range=0.2,\n",
    "    zoom_range=0.2,\n",
    "    width_shift_range=0.2,\n",
    "    height_shift_range=0.2,\n",
    "    validation_split=0.1).flow_from_directory(\n",
    "    directory=train_path, target_size=(224,224), classes=['cardboard', 'glass', 'metal', \n",
    "                                                         'paper', 'plastic', 'trash'], batch_size=32, subset='training')\n",
    "\n",
    "\n",
    "# extract images to validation set\n",
    "valid_batches = ImageDataGenerator(\n",
    "    preprocessing_function=keras.applications.vgg16.preprocess_input,\n",
    "    validation_split=0.1).flow_from_directory(\n",
    "    directory=valid_path, target_size=(224,224), classes=['cardboard', 'glass', 'metal', \n",
    "                                                         'paper', 'plastic', 'trash'], batch_size=32, subset='validation')"
   ]
  },
  {
   "cell_type": "code",
   "execution_count": 25,
   "id": "6979c50d",
   "metadata": {},
   "outputs": [],
   "source": [
    "import matplotlib.pyplot as plt\n",
    "def plot_imgs(item_dir, top=10):\n",
    "    all_item_dirs = os.listdir(item_dir)\n",
    "    item_files = [os.path.join(item_dir, file) for file in all_item_dirs][:5]\n",
    "  \n",
    "    plt.figure(figsize=(10, 10))\n",
    "  \n",
    "    for idx, img_path in enumerate(item_files):\n",
    "        plt.subplot(5, 5, idx+1)\n",
    "    \n",
    "        img = plt.imread(img_path)\n",
    "        plt.tight_layout()         \n",
    "        plt.imshow(img, cmap='gray')"
   ]
  },
  {
   "cell_type": "code",
   "execution_count": 26,
   "id": "93658100",
   "metadata": {},
   "outputs": [
    {
     "name": "stdout",
     "output_type": "stream",
     "text": [
      "['cardboard', 'glass', 'metal', 'paper', 'plastic', 'trash']\n"
     ]
    }
   ],
   "source": [
    "import os\n",
    "print(os.listdir('garbage_classification_ai_challenge-dataset/TRAIN'))"
   ]
  },
  {
   "cell_type": "code",
   "execution_count": 27,
   "id": "99b86696",
   "metadata": {},
   "outputs": [],
   "source": [
    "data_path = 'garbage_classification_ai_challenge-dataset/TRAIN'\n",
    "\n",
    "# plot_imgs(data_path+'/cardboard')\n",
    "# plot_imgs(data_path+'/glass')\n",
    "# plot_imgs(data_path+'/paper')\n",
    "# plot_imgs(data_path+'/plastic')\n",
    "# plot_imgs(data_path+'/metal')\n",
    "# plot_imgs(data_path+'/trash')\n",
    "batch_size = 32"
   ]
  },
  {
   "cell_type": "code",
   "execution_count": 28,
   "id": "7b3e9101",
   "metadata": {},
   "outputs": [
    {
     "name": "stdout",
     "output_type": "stream",
     "text": [
      "Found 1804 images belonging to 6 classes.\n",
      "Found 197 images belonging to 6 classes.\n"
     ]
    }
   ],
   "source": [
    "# Data Generator\n",
    "train=ImageDataGenerator(horizontal_flip=True, vertical_flip=True,validation_split=0.1,rescale=1./255,\n",
    "                         shear_range = 0.1,zoom_range = 0.1,\n",
    "                         width_shift_range = 0.1,\n",
    "                         height_shift_range = 0.1,)\n",
    "\n",
    "test=ImageDataGenerator(rescale=1./255,validation_split=0.1)\n",
    "\n",
    "train_generator=train.flow_from_directory(data_path,target_size=(128,128),batch_size=batch_size,class_mode='categorical',subset='training')\n",
    "test_generator=test.flow_from_directory(data_path,target_size=(128,128),batch_size=batch_size,class_mode='categorical',subset='validation')"
   ]
  },
  {
   "cell_type": "code",
   "execution_count": 29,
   "id": "784a5eb3",
   "metadata": {},
   "outputs": [
    {
     "name": "stdout",
     "output_type": "stream",
     "text": [
      "{0: 'cardboard', 1: 'glass', 2: 'metal', 3: 'paper', 4: 'plastic', 5: 'trash'}\n"
     ]
    }
   ],
   "source": [
    "labels = (train_generator.class_indices)\n",
    "labels = dict((v,k) for k,v in labels.items())\n",
    "print(labels)\n",
    "num_classes = 6"
   ]
  },
  {
   "cell_type": "code",
   "execution_count": 30,
   "id": "c1942600",
   "metadata": {},
   "outputs": [
    {
     "name": "stdout",
     "output_type": "stream",
     "text": [
      "Model: \"sequential_2\"\n",
      "_________________________________________________________________\n",
      " Layer (type)                Output Shape              Param #   \n",
      "=================================================================\n",
      " conv2d_6 (Conv2D)           (None, 128, 128, 32)      896       \n",
      "                                                                 \n",
      " max_pooling2d_6 (MaxPooling  (None, 64, 64, 32)       0         \n",
      " 2D)                                                             \n",
      "                                                                 \n",
      " conv2d_7 (Conv2D)           (None, 64, 64, 64)        18496     \n",
      "                                                                 \n",
      " max_pooling2d_7 (MaxPooling  (None, 32, 32, 64)       0         \n",
      " 2D)                                                             \n",
      "                                                                 \n",
      " conv2d_8 (Conv2D)           (None, 32, 32, 32)        18464     \n",
      "                                                                 \n",
      " max_pooling2d_8 (MaxPooling  (None, 16, 16, 32)       0         \n",
      " 2D)                                                             \n",
      "                                                                 \n",
      " flatten_2 (Flatten)         (None, 8192)              0         \n",
      "                                                                 \n",
      " dense_3 (Dense)             (None, 64)                524352    \n",
      "                                                                 \n",
      " dropout_2 (Dropout)         (None, 64)                0         \n",
      "                                                                 \n",
      " dense_4 (Dense)             (None, 6)                 390       \n",
      "                                                                 \n",
      "=================================================================\n",
      "Total params: 562,598\n",
      "Trainable params: 562,598\n",
      "Non-trainable params: 0\n",
      "_________________________________________________________________\n"
     ]
    }
   ],
   "source": [
    "from keras.models  import Sequential\n",
    "from keras.layers import Conv2D, Flatten, MaxPooling2D,Dense,Dropout\n",
    "# Build Model\n",
    "model = Sequential()\n",
    "   \n",
    "model.add(Conv2D(32,(3,3), padding='same', input_shape=(128,128,3),activation='relu'))\n",
    "model.add(MaxPooling2D(pool_size=(2,2))) \n",
    "model.add(Conv2D(64,(3,3), padding='same', activation='relu'))\n",
    "model.add(MaxPooling2D(pool_size=(2,2))) \n",
    "model.add(Conv2D(32,(3,3), padding='same', activation='relu'))\n",
    "model.add(MaxPooling2D(pool_size=(2,2))) \n",
    "model.add(Flatten())\n",
    "model.add(Dense(64,activation='relu'))\n",
    "model.add(Dropout(0.5))\n",
    "model.add(Dense(num_classes,activation='sigmoid'))\n",
    "\n",
    "model.summary()"
   ]
  },
  {
   "cell_type": "code",
   "execution_count": 31,
   "id": "b360f0d2",
   "metadata": {},
   "outputs": [
    {
     "name": "stdout",
     "output_type": "stream",
     "text": [
      "Model: \"sequential_2\"\n",
      "_________________________________________________________________\n",
      " Layer (type)                Output Shape              Param #   \n",
      "=================================================================\n",
      " conv2d_6 (Conv2D)           (None, 128, 128, 32)      896       \n",
      "                                                                 \n",
      " max_pooling2d_6 (MaxPooling  (None, 64, 64, 32)       0         \n",
      " 2D)                                                             \n",
      "                                                                 \n",
      " conv2d_7 (Conv2D)           (None, 64, 64, 64)        18496     \n",
      "                                                                 \n",
      " max_pooling2d_7 (MaxPooling  (None, 32, 32, 64)       0         \n",
      " 2D)                                                             \n",
      "                                                                 \n",
      " conv2d_8 (Conv2D)           (None, 32, 32, 32)        18464     \n",
      "                                                                 \n",
      " max_pooling2d_8 (MaxPooling  (None, 16, 16, 32)       0         \n",
      " 2D)                                                             \n",
      "                                                                 \n",
      " flatten_2 (Flatten)         (None, 8192)              0         \n",
      "                                                                 \n",
      " dense_3 (Dense)             (None, 64)                524352    \n",
      "                                                                 \n",
      " dropout_2 (Dropout)         (None, 64)                0         \n",
      "                                                                 \n",
      " dense_4 (Dense)             (None, 6)                 390       \n",
      "                                                                 \n",
      "=================================================================\n",
      "Total params: 562,598\n",
      "Trainable params: 562,598\n",
      "Non-trainable params: 0\n",
      "_________________________________________________________________\n"
     ]
    }
   ],
   "source": [
    "model.summary()"
   ]
  },
  {
   "cell_type": "code",
   "execution_count": 32,
   "id": "4d72d068",
   "metadata": {},
   "outputs": [],
   "source": [
    "# Compile Model #optimizer='adam'\n",
    "model.compile(loss='categorical_crossentropy', optimizer='rmsprop', metrics=['accuracy'])"
   ]
  },
  {
   "cell_type": "markdown",
   "id": "da6f7453",
   "metadata": {},
   "source": [
    "## Model Check Point"
   ]
  },
  {
   "cell_type": "code",
   "execution_count": 33,
   "id": "8655a45d",
   "metadata": {},
   "outputs": [],
   "source": [
    "from keras.callbacks import ModelCheckpoint, EarlyStopping\n",
    "\n",
    "model_path=\"garbage_cnn.h5\"\n",
    "checkpoint1 = ModelCheckpoint(model_path, monitor='val_accuracy', verbose=1, save_best_only=True, mode='max')\n",
    "callbacks_list = [checkpoint1]\n"
   ]
  },
  {
   "cell_type": "code",
   "execution_count": 34,
   "id": "74d9b483",
   "metadata": {},
   "outputs": [],
   "source": [
    "num_epochs = 50\n",
    "step_size_train=train_generator.n//train_generator.batch_size\n",
    "step_size_test =test_generator.n//test_generator.batch_size"
   ]
  },
  {
   "cell_type": "code",
   "execution_count": 35,
   "id": "2fd4ff26",
   "metadata": {},
   "outputs": [
    {
     "name": "stdout",
     "output_type": "stream",
     "text": [
      "Epoch 1/50\n",
      "56/56 [==============================] - ETA: 0s - loss: 1.8152 - accuracy: 0.2229\n",
      "Epoch 1: val_accuracy improved from -inf to 0.28426, saving model to garbage_cnn.h5\n",
      "56/56 [==============================] - 28s 487ms/step - loss: 1.8152 - accuracy: 0.2229 - val_loss: 1.7138 - val_accuracy: 0.2843\n",
      "Epoch 2/50\n",
      "56/56 [==============================] - ETA: 0s - loss: 1.7006 - accuracy: 0.2427\n",
      "Epoch 2: val_accuracy improved from 0.28426 to 0.37563, saving model to garbage_cnn.h5\n",
      "56/56 [==============================] - 20s 352ms/step - loss: 1.7006 - accuracy: 0.2427 - val_loss: 1.5526 - val_accuracy: 0.3756\n",
      "Epoch 3/50\n",
      "56/56 [==============================] - ETA: 0s - loss: 1.5855 - accuracy: 0.3307\n",
      "Epoch 3: val_accuracy improved from 0.37563 to 0.42132, saving model to garbage_cnn.h5\n",
      "56/56 [==============================] - 20s 351ms/step - loss: 1.5855 - accuracy: 0.3307 - val_loss: 1.4575 - val_accuracy: 0.4213\n",
      "Epoch 4/50\n",
      "56/56 [==============================] - ETA: 0s - loss: 1.5078 - accuracy: 0.3866\n",
      "Epoch 4: val_accuracy improved from 0.42132 to 0.43655, saving model to garbage_cnn.h5\n",
      "56/56 [==============================] - 20s 348ms/step - loss: 1.5078 - accuracy: 0.3866 - val_loss: 1.4146 - val_accuracy: 0.4365\n",
      "Epoch 5/50\n",
      "56/56 [==============================] - ETA: 0s - loss: 1.4570 - accuracy: 0.4362\n",
      "Epoch 5: val_accuracy improved from 0.43655 to 0.50254, saving model to garbage_cnn.h5\n",
      "56/56 [==============================] - 20s 347ms/step - loss: 1.4570 - accuracy: 0.4362 - val_loss: 1.3446 - val_accuracy: 0.5025\n",
      "Epoch 6/50\n",
      "56/56 [==============================] - ETA: 0s - loss: 1.4083 - accuracy: 0.4402\n",
      "Epoch 6: val_accuracy did not improve from 0.50254\n",
      "56/56 [==============================] - 20s 348ms/step - loss: 1.4083 - accuracy: 0.4402 - val_loss: 1.4195 - val_accuracy: 0.4772\n",
      "Epoch 7/50\n",
      "56/56 [==============================] - ETA: 0s - loss: 1.3312 - accuracy: 0.4661\n",
      "Epoch 7: val_accuracy improved from 0.50254 to 0.52284, saving model to garbage_cnn.h5\n",
      "56/56 [==============================] - 20s 348ms/step - loss: 1.3312 - accuracy: 0.4661 - val_loss: 1.2137 - val_accuracy: 0.5228\n",
      "Epoch 8/50\n",
      "56/56 [==============================] - ETA: 0s - loss: 1.3034 - accuracy: 0.5051\n",
      "Epoch 8: val_accuracy did not improve from 0.52284\n",
      "56/56 [==============================] - 20s 347ms/step - loss: 1.3034 - accuracy: 0.5051 - val_loss: 1.3860 - val_accuracy: 0.4010\n",
      "Epoch 9/50\n",
      "56/56 [==============================] - ETA: 0s - loss: 1.3125 - accuracy: 0.4910\n",
      "Epoch 9: val_accuracy did not improve from 0.52284\n",
      "56/56 [==============================] - 19s 345ms/step - loss: 1.3125 - accuracy: 0.4910 - val_loss: 1.5434 - val_accuracy: 0.4365\n",
      "Epoch 10/50\n",
      "56/56 [==============================] - ETA: 0s - loss: 1.2651 - accuracy: 0.5045\n",
      "Epoch 10: val_accuracy did not improve from 0.52284\n",
      "56/56 [==============================] - 20s 349ms/step - loss: 1.2651 - accuracy: 0.5045 - val_loss: 1.4065 - val_accuracy: 0.4924\n",
      "Epoch 11/50\n",
      "56/56 [==============================] - ETA: 0s - loss: 1.2488 - accuracy: 0.5265\n",
      "Epoch 11: val_accuracy improved from 0.52284 to 0.58376, saving model to garbage_cnn.h5\n",
      "56/56 [==============================] - 20s 353ms/step - loss: 1.2488 - accuracy: 0.5265 - val_loss: 1.1507 - val_accuracy: 0.5838\n",
      "Epoch 12/50\n",
      "56/56 [==============================] - ETA: 0s - loss: 1.2467 - accuracy: 0.5271\n",
      "Epoch 12: val_accuracy did not improve from 0.58376\n",
      "56/56 [==============================] - 20s 346ms/step - loss: 1.2467 - accuracy: 0.5271 - val_loss: 1.1718 - val_accuracy: 0.5685\n",
      "Epoch 13/50\n",
      "56/56 [==============================] - ETA: 0s - loss: 1.2291 - accuracy: 0.5395\n",
      "Epoch 13: val_accuracy did not improve from 0.58376\n",
      "56/56 [==============================] - 19s 341ms/step - loss: 1.2291 - accuracy: 0.5395 - val_loss: 1.1253 - val_accuracy: 0.5787\n",
      "Epoch 14/50\n",
      "56/56 [==============================] - ETA: 0s - loss: 1.1960 - accuracy: 0.5412\n",
      "Epoch 14: val_accuracy did not improve from 0.58376\n",
      "56/56 [==============================] - 19s 341ms/step - loss: 1.1960 - accuracy: 0.5412 - val_loss: 1.5992 - val_accuracy: 0.4213\n",
      "Epoch 15/50\n",
      "56/56 [==============================] - ETA: 0s - loss: 1.1660 - accuracy: 0.5626\n",
      "Epoch 15: val_accuracy did not improve from 0.58376\n",
      "56/56 [==============================] - 20s 357ms/step - loss: 1.1660 - accuracy: 0.5626 - val_loss: 1.1965 - val_accuracy: 0.5330\n",
      "Epoch 16/50\n",
      "56/56 [==============================] - ETA: 0s - loss: 1.1737 - accuracy: 0.5626\n",
      "Epoch 16: val_accuracy did not improve from 0.58376\n",
      "56/56 [==============================] - 22s 391ms/step - loss: 1.1737 - accuracy: 0.5626 - val_loss: 1.1326 - val_accuracy: 0.5381\n",
      "Epoch 17/50\n",
      "56/56 [==============================] - ETA: 0s - loss: 1.1674 - accuracy: 0.5700\n",
      "Epoch 17: val_accuracy did not improve from 0.58376\n",
      "56/56 [==============================] - 20s 356ms/step - loss: 1.1674 - accuracy: 0.5700 - val_loss: 1.1330 - val_accuracy: 0.5787\n",
      "Epoch 18/50\n",
      "56/56 [==============================] - ETA: 0s - loss: 1.1429 - accuracy: 0.5705\n",
      "Epoch 18: val_accuracy did not improve from 0.58376\n",
      "56/56 [==============================] - 20s 355ms/step - loss: 1.1429 - accuracy: 0.5705 - val_loss: 1.4925 - val_accuracy: 0.4112\n",
      "Epoch 19/50\n",
      "56/56 [==============================] - ETA: 0s - loss: 1.1057 - accuracy: 0.5948\n",
      "Epoch 19: val_accuracy improved from 0.58376 to 0.58883, saving model to garbage_cnn.h5\n",
      "56/56 [==============================] - 20s 355ms/step - loss: 1.1057 - accuracy: 0.5948 - val_loss: 1.0910 - val_accuracy: 0.5888\n",
      "Epoch 20/50\n",
      "56/56 [==============================] - ETA: 0s - loss: 1.1183 - accuracy: 0.5875\n",
      "Epoch 20: val_accuracy did not improve from 0.58883\n",
      "56/56 [==============================] - 20s 359ms/step - loss: 1.1183 - accuracy: 0.5875 - val_loss: 1.0583 - val_accuracy: 0.5736\n",
      "Epoch 21/50\n",
      "56/56 [==============================] - ETA: 0s - loss: 1.0958 - accuracy: 0.6129\n",
      "Epoch 21: val_accuracy did not improve from 0.58883\n",
      "56/56 [==============================] - 20s 347ms/step - loss: 1.0958 - accuracy: 0.6129 - val_loss: 1.1358 - val_accuracy: 0.5584\n",
      "Epoch 22/50\n",
      "56/56 [==============================] - ETA: 0s - loss: 1.0811 - accuracy: 0.5959\n",
      "Epoch 22: val_accuracy improved from 0.58883 to 0.60914, saving model to garbage_cnn.h5\n",
      "56/56 [==============================] - 20s 357ms/step - loss: 1.0811 - accuracy: 0.5959 - val_loss: 0.9973 - val_accuracy: 0.6091\n",
      "Epoch 23/50\n",
      "56/56 [==============================] - ETA: 0s - loss: 1.0592 - accuracy: 0.6027\n",
      "Epoch 23: val_accuracy did not improve from 0.60914\n",
      "56/56 [==============================] - 20s 355ms/step - loss: 1.0592 - accuracy: 0.6027 - val_loss: 1.6618 - val_accuracy: 0.4569\n",
      "Epoch 24/50\n",
      "56/56 [==============================] - ETA: 0s - loss: 1.0751 - accuracy: 0.6038\n",
      "Epoch 24: val_accuracy did not improve from 0.60914\n",
      "56/56 [==============================] - 20s 351ms/step - loss: 1.0751 - accuracy: 0.6038 - val_loss: 1.1757 - val_accuracy: 0.5685\n",
      "Epoch 25/50\n",
      "56/56 [==============================] - ETA: 0s - loss: 1.0574 - accuracy: 0.6163\n",
      "Epoch 25: val_accuracy did not improve from 0.60914\n",
      "56/56 [==============================] - 20s 351ms/step - loss: 1.0574 - accuracy: 0.6163 - val_loss: 1.0318 - val_accuracy: 0.6091\n",
      "Epoch 26/50\n",
      "56/56 [==============================] - ETA: 0s - loss: 1.0523 - accuracy: 0.6112\n",
      "Epoch 26: val_accuracy improved from 0.60914 to 0.61929, saving model to garbage_cnn.h5\n",
      "56/56 [==============================] - 20s 355ms/step - loss: 1.0523 - accuracy: 0.6112 - val_loss: 1.0719 - val_accuracy: 0.6193\n",
      "Epoch 27/50\n",
      "56/56 [==============================] - ETA: 0s - loss: 1.0191 - accuracy: 0.6304\n",
      "Epoch 27: val_accuracy did not improve from 0.61929\n",
      "56/56 [==============================] - 20s 356ms/step - loss: 1.0191 - accuracy: 0.6304 - val_loss: 1.0529 - val_accuracy: 0.5736\n",
      "Epoch 28/50\n",
      "56/56 [==============================] - ETA: 0s - loss: 1.0371 - accuracy: 0.6174\n",
      "Epoch 28: val_accuracy did not improve from 0.61929\n",
      "56/56 [==============================] - 20s 358ms/step - loss: 1.0371 - accuracy: 0.6174 - val_loss: 1.0388 - val_accuracy: 0.6193\n",
      "Epoch 29/50\n"
     ]
    },
    {
     "name": "stdout",
     "output_type": "stream",
     "text": [
      "56/56 [==============================] - ETA: 0s - loss: 1.0053 - accuracy: 0.6416\n",
      "Epoch 29: val_accuracy improved from 0.61929 to 0.63959, saving model to garbage_cnn.h5\n",
      "56/56 [==============================] - 21s 369ms/step - loss: 1.0053 - accuracy: 0.6416 - val_loss: 0.8961 - val_accuracy: 0.6396\n",
      "Epoch 30/50\n",
      "56/56 [==============================] - ETA: 0s - loss: 0.9727 - accuracy: 0.6416\n",
      "Epoch 30: val_accuracy did not improve from 0.63959\n",
      "56/56 [==============================] - 20s 356ms/step - loss: 0.9727 - accuracy: 0.6416 - val_loss: 1.3875 - val_accuracy: 0.5482\n",
      "Epoch 31/50\n",
      "56/56 [==============================] - ETA: 0s - loss: 1.0071 - accuracy: 0.6360\n",
      "Epoch 31: val_accuracy did not improve from 0.63959\n",
      "56/56 [==============================] - 20s 350ms/step - loss: 1.0071 - accuracy: 0.6360 - val_loss: 1.0965 - val_accuracy: 0.6345\n",
      "Epoch 32/50\n",
      "56/56 [==============================] - ETA: 0s - loss: 0.9637 - accuracy: 0.6529\n",
      "Epoch 32: val_accuracy improved from 0.63959 to 0.66497, saving model to garbage_cnn.h5\n",
      "56/56 [==============================] - 20s 364ms/step - loss: 0.9637 - accuracy: 0.6529 - val_loss: 0.9411 - val_accuracy: 0.6650\n",
      "Epoch 33/50\n",
      "56/56 [==============================] - ETA: 0s - loss: 0.9544 - accuracy: 0.6479\n",
      "Epoch 33: val_accuracy improved from 0.66497 to 0.68020, saving model to garbage_cnn.h5\n",
      "56/56 [==============================] - 20s 357ms/step - loss: 0.9544 - accuracy: 0.6479 - val_loss: 0.8506 - val_accuracy: 0.6802\n",
      "Epoch 34/50\n",
      "56/56 [==============================] - ETA: 0s - loss: 0.9633 - accuracy: 0.6558\n",
      "Epoch 34: val_accuracy did not improve from 0.68020\n",
      "56/56 [==============================] - 20s 355ms/step - loss: 0.9633 - accuracy: 0.6558 - val_loss: 0.8415 - val_accuracy: 0.6802\n",
      "Epoch 35/50\n",
      "56/56 [==============================] - ETA: 0s - loss: 0.9186 - accuracy: 0.6676\n",
      "Epoch 35: val_accuracy did not improve from 0.68020\n",
      "56/56 [==============================] - 20s 350ms/step - loss: 0.9186 - accuracy: 0.6676 - val_loss: 0.8936 - val_accuracy: 0.6751\n",
      "Epoch 36/50\n",
      "56/56 [==============================] - ETA: 0s - loss: 0.9201 - accuracy: 0.6682\n",
      "Epoch 36: val_accuracy improved from 0.68020 to 0.72589, saving model to garbage_cnn.h5\n",
      "56/56 [==============================] - 20s 349ms/step - loss: 0.9201 - accuracy: 0.6682 - val_loss: 0.8014 - val_accuracy: 0.7259\n",
      "Epoch 37/50\n",
      "56/56 [==============================] - ETA: 0s - loss: 0.9337 - accuracy: 0.6783\n",
      "Epoch 37: val_accuracy did not improve from 0.72589\n",
      "56/56 [==============================] - 20s 349ms/step - loss: 0.9337 - accuracy: 0.6783 - val_loss: 1.1095 - val_accuracy: 0.6091\n",
      "Epoch 38/50\n",
      "56/56 [==============================] - ETA: 0s - loss: 0.9305 - accuracy: 0.6569\n",
      "Epoch 38: val_accuracy did not improve from 0.72589\n",
      "56/56 [==============================] - 20s 348ms/step - loss: 0.9305 - accuracy: 0.6569 - val_loss: 0.8703 - val_accuracy: 0.6701\n",
      "Epoch 39/50\n",
      "56/56 [==============================] - ETA: 0s - loss: 0.9299 - accuracy: 0.6637\n",
      "Epoch 39: val_accuracy did not improve from 0.72589\n",
      "56/56 [==============================] - 20s 352ms/step - loss: 0.9299 - accuracy: 0.6637 - val_loss: 0.9589 - val_accuracy: 0.6599\n",
      "Epoch 40/50\n",
      "56/56 [==============================] - ETA: 0s - loss: 0.9175 - accuracy: 0.6704\n",
      "Epoch 40: val_accuracy did not improve from 0.72589\n",
      "56/56 [==============================] - 20s 361ms/step - loss: 0.9175 - accuracy: 0.6704 - val_loss: 1.1186 - val_accuracy: 0.6294\n",
      "Epoch 41/50\n",
      "56/56 [==============================] - ETA: 0s - loss: 0.9054 - accuracy: 0.6772\n",
      "Epoch 41: val_accuracy did not improve from 0.72589\n",
      "56/56 [==============================] - 20s 360ms/step - loss: 0.9054 - accuracy: 0.6772 - val_loss: 0.8275 - val_accuracy: 0.7056\n",
      "Epoch 42/50\n",
      "56/56 [==============================] - ETA: 0s - loss: 0.9325 - accuracy: 0.6738\n",
      "Epoch 42: val_accuracy improved from 0.72589 to 0.74619, saving model to garbage_cnn.h5\n",
      "56/56 [==============================] - 20s 360ms/step - loss: 0.9325 - accuracy: 0.6738 - val_loss: 0.7775 - val_accuracy: 0.7462\n",
      "Epoch 43/50\n",
      "56/56 [==============================] - ETA: 0s - loss: 0.9366 - accuracy: 0.6631\n",
      "Epoch 43: val_accuracy did not improve from 0.74619\n",
      "56/56 [==============================] - 20s 364ms/step - loss: 0.9366 - accuracy: 0.6631 - val_loss: 1.1793 - val_accuracy: 0.6396\n",
      "Epoch 44/50\n",
      "56/56 [==============================] - ETA: 0s - loss: 0.9075 - accuracy: 0.6704\n",
      "Epoch 44: val_accuracy did not improve from 0.74619\n",
      "56/56 [==============================] - 19s 347ms/step - loss: 0.9075 - accuracy: 0.6704 - val_loss: 0.7605 - val_accuracy: 0.7056\n",
      "Epoch 45/50\n",
      "56/56 [==============================] - ETA: 0s - loss: 0.8994 - accuracy: 0.6738\n",
      "Epoch 45: val_accuracy did not improve from 0.74619\n",
      "56/56 [==============================] - 20s 347ms/step - loss: 0.8994 - accuracy: 0.6738 - val_loss: 0.8827 - val_accuracy: 0.6904\n",
      "Epoch 46/50\n",
      "56/56 [==============================] - ETA: 0s - loss: 0.8721 - accuracy: 0.6857\n",
      "Epoch 46: val_accuracy did not improve from 0.74619\n",
      "56/56 [==============================] - 19s 346ms/step - loss: 0.8721 - accuracy: 0.6857 - val_loss: 0.9413 - val_accuracy: 0.6599\n",
      "Epoch 47/50\n",
      "56/56 [==============================] - ETA: 0s - loss: 0.9042 - accuracy: 0.6862\n",
      "Epoch 47: val_accuracy did not improve from 0.74619\n",
      "56/56 [==============================] - 19s 346ms/step - loss: 0.9042 - accuracy: 0.6862 - val_loss: 0.8094 - val_accuracy: 0.7157\n",
      "Epoch 48/50\n",
      "56/56 [==============================] - ETA: 0s - loss: 0.8841 - accuracy: 0.6885\n",
      "Epoch 48: val_accuracy did not improve from 0.74619\n",
      "56/56 [==============================] - 20s 352ms/step - loss: 0.8841 - accuracy: 0.6885 - val_loss: 0.8629 - val_accuracy: 0.6802\n",
      "Epoch 49/50\n",
      "56/56 [==============================] - ETA: 0s - loss: 0.8813 - accuracy: 0.6721\n",
      "Epoch 49: val_accuracy did not improve from 0.74619\n",
      "56/56 [==============================] - 19s 347ms/step - loss: 0.8813 - accuracy: 0.6721 - val_loss: 1.0829 - val_accuracy: 0.6091\n",
      "Epoch 50/50\n",
      "56/56 [==============================] - ETA: 0s - loss: 0.8463 - accuracy: 0.6919\n",
      "Epoch 50: val_accuracy did not improve from 0.74619\n",
      "56/56 [==============================] - 19s 339ms/step - loss: 0.8463 - accuracy: 0.6919 - val_loss: 0.7411 - val_accuracy: 0.7411\n"
     ]
    }
   ],
   "source": [
    "# Train Model\n",
    "history = model.fit(train_generator, epochs=num_epochs, steps_per_epoch=step_size_train,validation_data=test_generator,\n",
    "                    callbacks=callbacks_list)"
   ]
  },
  {
   "cell_type": "code",
   "execution_count": 36,
   "id": "05ce60a0",
   "metadata": {},
   "outputs": [
    {
     "data": {
      "text/plain": [
       "dict_keys(['loss', 'accuracy', 'val_loss', 'val_accuracy'])"
      ]
     },
     "execution_count": 36,
     "metadata": {},
     "output_type": "execute_result"
    }
   ],
   "source": [
    "h = history.history\n",
    "h.keys()"
   ]
  },
  {
   "cell_type": "code",
   "execution_count": 37,
   "id": "72c1b366",
   "metadata": {},
   "outputs": [
    {
     "name": "stdout",
     "output_type": "stream",
     "text": [
      "[0.22291196882724762, 0.2426636517047882, 0.33069977164268494, 0.3865688443183899, 0.43623024225234985, 0.44018059968948364, 0.46613994240760803, 0.5050790309906006, 0.490970641374588, 0.5045146942138672, 0.5265237092971802, 0.5270880460739136, 0.5395033955574036, 0.5411964058876038, 0.5626410841941833, 0.5626410841941833, 0.5699774026870728, 0.5705417394638062, 0.5948081016540527, 0.5874717831611633, 0.6128668189048767, 0.5959367752075195, 0.6027088165283203, 0.6038374900817871, 0.6162528395652771, 0.6111738085746765, 0.6303611993789673, 0.6173815131187439, 0.6416478753089905, 0.6416478753089905, 0.6360045075416565, 0.6529345512390137, 0.6478555202484131, 0.6557562351226807, 0.6676072478294373, 0.6681715846061707, 0.678329586982727, 0.6568848490715027, 0.6636568903923035, 0.6704288721084595, 0.6772009134292603, 0.6738148927688599, 0.6630925536155701, 0.6704288721084595, 0.6738148927688599, 0.6856659054756165, 0.6862302422523499, 0.6884875893592834, 0.6721218824386597, 0.6918736100196838]\n"
     ]
    }
   ],
   "source": [
    "print(h['accuracy'])"
   ]
  },
  {
   "cell_type": "code",
   "execution_count": 55,
   "id": "d3d8fefa",
   "metadata": {},
   "outputs": [
    {
     "name": "stderr",
     "output_type": "stream",
     "text": [
      "C:\\Users\\Trainee\\AppData\\Local\\Temp\\ipykernel_6856\\1215894079.py:2: UserWarning: color is redundantly defined by the 'color' keyword argument and the fmt string \"go--\" (-> color='g'). The keyword argument will take precedence.\n",
      "  plt.plot(h['accuracy'],'go--',color='blue')\n"
     ]
    },
    {
     "data": {
      "image/png": "[encoded data removed]",
      "text/plain": [
       "<Figure size 432x288 with 1 Axes>"
      ]
     },
     "metadata": {
      "needs_background": "light"
     },
     "output_type": "display_data"
    }
   ],
   "source": [
    "plt.plot(h['loss'],'go--')\n",
    "plt.plot(h['accuracy'],'go--',color='blue')\n",
    "# plt.plot(h['val_loss'],'go--',color='pink')\n",
    "# plt.plot(h['val_accuracy'],'go--',color='green')\n",
    "plt.title(\"loss vs Acc\")\n",
    "plt.legend(['loss', 'accuracy'], loc='upper left')\n",
    "# plt.title(\"loss vs Acc vs Val_Acc vs Val_loss\")\n",
    "plt.show()"
   ]
  },
  {
   "cell_type": "code",
   "execution_count": 41,
   "id": "70af9f7e",
   "metadata": {},
   "outputs": [
    {
     "name": "stdout",
     "output_type": "stream",
     "text": [
      "dict_keys(['loss', 'accuracy', 'val_loss', 'val_accuracy'])\n"
     ]
    },
    {
     "name": "stderr",
     "output_type": "stream",
     "text": [
      "C:\\Users\\Trainee\\AppData\\Local\\Temp\\ipykernel_6856\\1577112088.py:7: UserWarning: color is redundantly defined by the 'color' keyword argument and the fmt string \"go--\" (-> color='g'). The keyword argument will take precedence.\n",
      "  plt.plot(hisData.history[test], \"go--\", c='blue')\n"
     ]
    },
    {
     "data": {
      "image/png": "[encoded data removed]",
      "text/plain": [
       "<Figure size 432x288 with 1 Axes>"
      ]
     },
     "metadata": {
      "needs_background": "light"
     },
     "output_type": "display_data"
    },
    {
     "data": {
      "image/png": "[encoded data removed]",
      "text/plain": [
       "<Figure size 432x288 with 1 Axes>"
      ]
     },
     "metadata": {
      "needs_background": "light"
     },
     "output_type": "display_data"
    }
   ],
   "source": [
    "# Show Train History\n",
    "keys=history.history.keys()\n",
    "print(keys)\n",
    "\n",
    "def show_train_history(hisData,train,test): \n",
    "    plt.plot(hisData.history[train], \"go--\")\n",
    "    plt.plot(hisData.history[test], \"go--\", c='blue')\n",
    "    plt.title('Training History')\n",
    "    plt.ylabel(train)\n",
    "    plt.xlabel('Epoch')\n",
    "    plt.legend(['train', 'test'], loc='upper left')\n",
    "    plt.show()\n",
    "\n",
    "show_train_history(history, 'loss', 'val_loss')\n",
    "show_train_history(history, 'accuracy', 'val_accuracy')"
   ]
  },
  {
   "cell_type": "code",
   "execution_count": 42,
   "id": "99e7d721",
   "metadata": {},
   "outputs": [],
   "source": [
    "from tensorflow.keras.preprocessing.image import load_img, img_to_array"
   ]
  },
  {
   "cell_type": "markdown",
   "id": "c13cf3b6",
   "metadata": {},
   "source": [
    "#### path for the image to see if it predicts correct class"
   ]
  },
  {
   "cell_type": "code",
   "execution_count": 43,
   "id": "41bc01c0",
   "metadata": {},
   "outputs": [],
   "source": [
    "path = 'garbage_classification_ai_challenge-dataset/TRAIN/plastic/010.jpg'\n",
    "img = load_img(path,target_size=(128,128))"
   ]
  },
  {
   "cell_type": "code",
   "execution_count": 45,
   "id": "cddb9aa6",
   "metadata": {},
   "outputs": [],
   "source": [
    "import numpy as np"
   ]
  },
  {
   "cell_type": "code",
   "execution_count": 54,
   "id": "e3fd3fe2",
   "metadata": {},
   "outputs": [
    {
     "ename": "NameError",
     "evalue": "name 'preprocess_input' is not defined",
     "output_type": "error",
     "traceback": [
      "\u001b[1;31m---------------------------------------------------------------------------\u001b[0m",
      "\u001b[1;31mNameError\u001b[0m                                 Traceback (most recent call last)",
      "Input \u001b[1;32mIn [54]\u001b[0m, in \u001b[0;36m<cell line: 2>\u001b[1;34m()\u001b[0m\n\u001b[0;32m      1\u001b[0m i \u001b[38;5;241m=\u001b[39m img_to_array(img)\n\u001b[1;32m----> 2\u001b[0m i \u001b[38;5;241m=\u001b[39m \u001b[43mpreprocess_input\u001b[49m(img)\n\u001b[0;32m      3\u001b[0m input_array \u001b[38;5;241m=\u001b[39m np\u001b[38;5;241m.\u001b[39marray([i])\n\u001b[0;32m      4\u001b[0m input_array\u001b[38;5;241m.\u001b[39mshape\n",
      "\u001b[1;31mNameError\u001b[0m: name 'preprocess_input' is not defined"
     ]
    }
   ],
   "source": [
    "i = img_to_array(img)\n",
    "i = preprocess_input(img)\n",
    "input_array = np.array([i])\n",
    "input_array.shape\n",
    "\n",
    "pred = np.argmax(model.predict(input_array))\n",
    "\n",
    "if pred == 0:\n",
    "    print(\"The image is cardboard\")\n",
    "elif pred ==1:\n",
    "    print(\"The image is glass\")\n",
    "elif pred == 2:\n",
    "    print(\"The image is metal\")\n",
    "elif pred ==3:\n",
    "    print(\"The image is paper\")\n",
    "elif pred == 4:\n",
    "    print(\"The image is plastic\")\n",
    "else:\n",
    "    print(\"The image is trash\")\n",
    "    \n",
    "    \n",
    "#to display the image\n",
    "plt.imshow(input_array[0])\n",
    "plt.title(\"input Image\")\n",
    "plt.axis = False\n",
    "plt.show()"
   ]
  },
  {
   "cell_type": "markdown",
   "id": "2d4891b5",
   "metadata": {},
   "source": [
    "## GRAD-CAM"
   ]
  },
  {
   "cell_type": "code",
   "execution_count": 47,
   "id": "4b1470c1",
   "metadata": {},
   "outputs": [],
   "source": [
    "def get_img_arr(img_path):\n",
    "    '''input: Takes in image peth\n",
    "    output: Gives pre-process img\n",
    "    '''\n",
    "    path = img_path\n",
    "    img = load_img\n",
    "    \n",
    "    img = load_img(path,target_size=(128,128))\n",
    "    \n",
    "    img = img_to_array(img)\n",
    "    \n",
    "    img = preprocess_input(img)\n",
    "    \n",
    "    #Expand the dimentions\n",
    "    img = np.array([i])\n",
    "\n",
    "    return img"
   ]
  },
  {
   "cell_type": "code",
   "execution_count": 48,
   "id": "5d681af6",
   "metadata": {},
   "outputs": [],
   "source": [
    "import tensorflow as tf"
   ]
  },
  {
   "cell_type": "code",
   "execution_count": 49,
   "id": "52ff2841",
   "metadata": {},
   "outputs": [],
   "source": [
    "def make_gracam_heatmap(img_array, model, last_conv_layer_name, pred_index= None):\n",
    "    grad_model = tf.keras.models.Model(\n",
    "        [model.input], [model.get_layer(last_conv_layer_name).output, model.output]\n",
    "    )\n",
    "    with tf.GradientTape() as tape:\n",
    "        last_conv_layer_output, preds = grad_model(img_array)\n",
    "        \n",
    "        if pred_index is None:\n",
    "            \n",
    "            pred_index = tf.argmax(preds[0])\n",
    "                \n",
    "        class_channel = preds[:,pred_index]\n",
    "        \n",
    "    grads = tape.gradient(class_channel, last_conv_layer_output)\n",
    "\n",
    "    poole_grads = tf.reduce_mean(grads, axis =(0,1,2))\n",
    "\n",
    "    last_conv_layer_output = last_conv_layer_output[0]\n",
    "\n",
    "    heatmap = last_conv_layer_output @ poole_grads[..., tf.newaxis]\n",
    "\n",
    "    heatmap= tf.squeeze(heatmap)\n",
    "\n",
    "    heatmap = tf.maximum(heatmap, 0) / tf.math.reduce_max(heatmap)\n",
    "    return heatmap.numpy()"
   ]
  },
  {
   "cell_type": "markdown",
   "id": "5bfe77bf",
   "metadata": {},
   "source": [
    "## Mask HeatMap on Image"
   ]
  },
  {
   "cell_type": "code",
   "execution_count": 50,
   "id": "89554ef9",
   "metadata": {},
   "outputs": [],
   "source": [
    "import matplotlib.cm as cm\n",
    "\n",
    "from IPython.display import Image, display "
   ]
  },
  {
   "cell_type": "code",
   "execution_count": 51,
   "id": "080478ed",
   "metadata": {},
   "outputs": [],
   "source": [
    "def save_and_display_gradcam(img_path, heatmap, cam_path=\"cam.jpg\", alpha= 0.4):\n",
    "    \n",
    "    img = img_to_array(load_img(img_path))\n",
    "    \n",
    "    heatmap = np.uint8(255*heatmap)\n",
    "    \n",
    "    jet = cm.get_cmap(\"jet\")\n",
    "    \n",
    "    jet_color = jet(np.arange(256))[:,:3]\n",
    "    \n",
    "    jet_heatmap = jet_color[heatmap]\n",
    "    \n",
    "    jet_heatmap = tf.keras.preprocessing.image.array_to_img(jet_heatmap)\n",
    "    jet_heatmap = jet_heatmap.resize((img.shape[1], img.shape[0]))\n",
    "    jet_heatmap = tf.keras.preprocessing.image.img_to_array(jet_heatmap)\n",
    "    \n",
    "    superimposed_img = jet_heatmap * alpha +img\n",
    "    superimposed_img = tf.keras.preprocessing.image.array_to_img(superimposed_img)\n",
    "    \n",
    "    superimposed_img.save(cam_path)\n",
    "    \n",
    "    display(Image(cam_path))\n",
    "    \n",
    "    "
   ]
  },
  {
   "cell_type": "code",
   "execution_count": 52,
   "id": "c2f3eb56",
   "metadata": {},
   "outputs": [],
   "source": [
    "#predict the image\n",
    "\n",
    "def image_prediction_and_visual(path,last_conv_layer_name=\"conv2d_9\", model= model):\n",
    "    \n",
    "    img_array = get_img_arr(path)\n",
    "    \n",
    "    heatmap = make_gracam_heatmap(img_array, model, last_conv_layer_name)\n",
    "    \n",
    "    plt.title(\"the heatmap of the image\")\n",
    "    \n",
    "    plt.imshow(heatmap)\n",
    "    plt.show()\n",
    "    \n",
    "    \n",
    "    pred = np.argmax(model.predict(preprocess_input(img_array)))\n",
    "    \n",
    "    if pred == 0:\n",
    "        print(\"The image is cardboard\")\n",
    "    elif pred ==1:\n",
    "        print(\"The image is glass\")\n",
    "    elif pred == 2:\n",
    "        print(\"The image is metal\")\n",
    "    elif pred ==3:\n",
    "        print(\"The image is paper\")\n",
    "    elif pred == 4:\n",
    "        print(\"The image is plastic\")\n",
    "    else:\n",
    "        print(\"The image is trash\")\n",
    "    \n",
    "    \n",
    "    \n",
    "    #function call\n",
    "    save_and_display_gradcam(path, heatmap)\n",
    "    \n",
    "    a = plt.imread(path)\n",
    "    \n",
    "    plt.imshow(a, cmap=\"gray\")\n",
    "    \n",
    "    plt.title(\"original image\")\n",
    "    \n",
    "    plt.show()"
   ]
  },
  {
   "cell_type": "code",
   "execution_count": 53,
   "id": "b463f687",
   "metadata": {},
   "outputs": [
    {
     "ename": "NameError",
     "evalue": "name 'preprocess_input' is not defined",
     "output_type": "error",
     "traceback": [
      "\u001b[1;31m---------------------------------------------------------------------------\u001b[0m",
      "\u001b[1;31mNameError\u001b[0m                                 Traceback (most recent call last)",
      "Input \u001b[1;32mIn [53]\u001b[0m, in \u001b[0;36m<cell line: 4>\u001b[1;34m()\u001b[0m\n\u001b[0;32m      1\u001b[0m \u001b[38;5;66;03m#function call\u001b[39;00m\n\u001b[0;32m      2\u001b[0m path \u001b[38;5;241m=\u001b[39m \u001b[38;5;124m\"\u001b[39m\u001b[38;5;124mgarbage_classification_ai_challenge-dataset/TRAIN/plastic/004.jpg\u001b[39m\u001b[38;5;124m\"\u001b[39m\n\u001b[1;32m----> 4\u001b[0m \u001b[43mimage_prediction_and_visual\u001b[49m\u001b[43m(\u001b[49m\u001b[43mpath\u001b[49m\u001b[43m)\u001b[49m\n",
      "Input \u001b[1;32mIn [52]\u001b[0m, in \u001b[0;36mimage_prediction_and_visual\u001b[1;34m(path, last_conv_layer_name, model)\u001b[0m\n\u001b[0;32m      3\u001b[0m \u001b[38;5;28;01mdef\u001b[39;00m \u001b[38;5;21mimage_prediction_and_visual\u001b[39m(path,last_conv_layer_name\u001b[38;5;241m=\u001b[39m\u001b[38;5;124m\"\u001b[39m\u001b[38;5;124mconv2d_9\u001b[39m\u001b[38;5;124m\"\u001b[39m, model\u001b[38;5;241m=\u001b[39m model):\n\u001b[1;32m----> 5\u001b[0m     img_array \u001b[38;5;241m=\u001b[39m \u001b[43mget_img_arr\u001b[49m\u001b[43m(\u001b[49m\u001b[43mpath\u001b[49m\u001b[43m)\u001b[49m\n\u001b[0;32m      7\u001b[0m     heatmap \u001b[38;5;241m=\u001b[39m make_gracam_heatmap(img_array, model, last_conv_layer_name)\n\u001b[0;32m      9\u001b[0m     plt\u001b[38;5;241m.\u001b[39mtitle(\u001b[38;5;124m\"\u001b[39m\u001b[38;5;124mthe heatmap of the image\u001b[39m\u001b[38;5;124m\"\u001b[39m)\n",
      "Input \u001b[1;32mIn [47]\u001b[0m, in \u001b[0;36mget_img_arr\u001b[1;34m(img_path)\u001b[0m\n\u001b[0;32m      8\u001b[0m img \u001b[38;5;241m=\u001b[39m load_img(path,target_size\u001b[38;5;241m=\u001b[39m(\u001b[38;5;241m128\u001b[39m,\u001b[38;5;241m128\u001b[39m))\n\u001b[0;32m     10\u001b[0m img \u001b[38;5;241m=\u001b[39m img_to_array(img)\n\u001b[1;32m---> 12\u001b[0m img \u001b[38;5;241m=\u001b[39m \u001b[43mpreprocess_input\u001b[49m(img)\n\u001b[0;32m     14\u001b[0m \u001b[38;5;66;03m#Expand the dimentions\u001b[39;00m\n\u001b[0;32m     15\u001b[0m img \u001b[38;5;241m=\u001b[39m np\u001b[38;5;241m.\u001b[39marray([i])\n",
      "\u001b[1;31mNameError\u001b[0m: name 'preprocess_input' is not defined"
     ]
    }
   ],
   "source": [
    "#function call\n",
    "path = \"garbage_classification_ai_challenge-dataset/TRAIN/plastic/004.jpg\"\n",
    "\n",
    "image_prediction_and_visual(path)"
   ]
  },
  {
   "cell_type": "code",
   "execution_count": null,
   "id": "1031ca8e",
   "metadata": {},
   "outputs": [],
   "source": []
  },
  {
   "cell_type": "code",
   "execution_count": null,
   "id": "deb54c55",
   "metadata": {},
   "outputs": [],
   "source": []
  }
 ],
 "metadata": {
  "kernelspec": {
   "display_name": "Python 3 (ipykernel)",
   "language": "python",
   "name": "python3"
  },
  "language_info": {
   "codemirror_mode": {
    "name": "ipython",
    "version": 3
   },
   "file_extension": ".py",
   "mimetype": "text/x-python",
   "name": "python",
   "nbconvert_exporter": "python",
   "pygments_lexer": "ipython3",
   "version": "3.10.5"
  }
 },
 "nbformat": 4,
 "nbformat_minor": 5
}
